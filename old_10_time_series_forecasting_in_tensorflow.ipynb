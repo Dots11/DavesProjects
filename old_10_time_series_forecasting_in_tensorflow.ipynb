{
  "nbformat": 4,
  "nbformat_minor": 0,
  "metadata": {
    "colab": {
      "provenance": [],
      "collapsed_sections": [
        "tV8m3UvtRUJB",
        "kXiuj2jKn1Ba",
        "7AZvcSF2Y_yj",
        "M14YDPdKRzz9",
        "7QC69TjNX-3z",
        "x0pTCbPRq17g",
        "_8OPNvbd1HsK",
        "cEuK2OUI59ET",
        "o52T1IYc_fwY"
      ],
      "authorship_tag": "ABX9TyOjjuyDpqvR1CrmE56nTDv/",
      "include_colab_link": true
    },
    "kernelspec": {
      "name": "python3",
      "display_name": "Python 3"
    },
    "language_info": {
      "name": "python"
    },
    "accelerator": "GPU"
  },
  "cells": [
    {
      "cell_type": "markdown",
      "metadata": {
        "id": "view-in-github",
        "colab_type": "text"
      },
      "source": [
        "<a href=\"https://colab.research.google.com/github/Dots11/DavesProjects/blob/master/old_10_time_series_forecasting_in_tensorflow.ipynb\" target=\"_parent\"><img src=\"https://colab.research.google.com/assets/colab-badge.svg\" alt=\"Open In Colab\"/></a>"
      ]
    },
    {
      "cell_type": "markdown",
      "source": [
        "## Time series forecasting fundamentals with tensorFlow + Milestone Project 3: BitPredict\n",
        "\n",
        "Let's write some TensorFlow code to predict the price of Bitcoin based on the historical price of Bitcoin.:\n",
        "\n",
        "**Note** This is not financial advice.\n",
        "\n",
        "Links: \n",
        "* All resources in GitHub: https://github.com/mrdbourke/tensorflow-deep-learning\n",
        "* Book version of actual code/text: https://dev.mrdbourke.com/tensorflow-deep-learning/10_time_series_forecasting_in_tensorflow/"
      ],
      "metadata": {
        "id": "tV8m3UvtRUJB"
      }
    },
    {
      "cell_type": "markdown",
      "source": [
        "## Get data\n",
        "\n",
        "We are going to use the historical price data of Bitcoin to try and predict; the future price of Bitcoin, we downloaded the data from here: https://coinbase.com/price/bitcoin"
      ],
      "metadata": {
        "id": "kXiuj2jKn1Ba"
      }
    },
    {
      "cell_type": "code",
      "source": [
        "# Importing data from 05-18-2021\n",
        "!wget https://raw.githubusercontent.com/mrdbourke/tensorflow-deep-learning/main/extras/BTC_USD_2013-10-01_2021-05-18-CoinDesk.csv"
      ],
      "metadata": {
        "colab": {
          "base_uri": "https://localhost:8080/"
        },
        "id": "7bsqogSGob0a",
        "outputId": "9705a23f-5258-47f2-bee2-6f296d2c2fba"
      },
      "execution_count": null,
      "outputs": [
        {
          "output_type": "stream",
          "name": "stdout",
          "text": [
            "--2022-10-16 20:43:59--  https://raw.githubusercontent.com/mrdbourke/tensorflow-deep-learning/main/extras/BTC_USD_2013-10-01_2021-05-18-CoinDesk.csv\n",
            "Resolving raw.githubusercontent.com (raw.githubusercontent.com)... 185.199.108.133, 185.199.109.133, 185.199.110.133, ...\n",
            "Connecting to raw.githubusercontent.com (raw.githubusercontent.com)|185.199.108.133|:443... connected.\n",
            "HTTP request sent, awaiting response... 200 OK\n",
            "Length: 178509 (174K) [text/plain]\n",
            "Saving to: ‘BTC_USD_2013-10-01_2021-05-18-CoinDesk.csv.1’\n",
            "\n",
            "\r          BTC_USD_2   0%[                    ]       0  --.-KB/s               \rBTC_USD_2013-10-01_ 100%[===================>] 174.33K  --.-KB/s    in 0.01s   \n",
            "\n",
            "2022-10-16 20:43:59 (12.2 MB/s) - ‘BTC_USD_2013-10-01_2021-05-18-CoinDesk.csv.1’ saved [178509/178509]\n",
            "\n"
          ]
        }
      ]
    },
    {
      "cell_type": "markdown",
      "source": [
        "## Importing and plot time series data with Panda's CSV module"
      ],
      "metadata": {
        "id": "7AZvcSF2Y_yj"
      }
    },
    {
      "cell_type": "code",
      "source": [
        "# Importing time series with pandas\n",
        "import pandas as pd\n",
        "# Let's read in our Bitcoin data and parse the data\n",
        "df = pd.read_csv(\"/content/BTC_USD_2013-10-01_2021-05-18-CoinDesk.csv.1\",\n",
        "                 parse_dates = [\"Date\"],\n",
        "                 index_col = [\"Date\"]) # parse the date column, and tell pandas column 1 is datetime\n",
        "df.head() # earliest data"
      ],
      "metadata": {
        "colab": {
          "base_uri": "https://localhost:8080/",
          "height": 238
        },
        "id": "-yAbB9-Zop9L",
        "outputId": "a0d53e0b-bc9e-4d24-bf17-9b088c0e4b48"
      },
      "execution_count": null,
      "outputs": [
        {
          "output_type": "execute_result",
          "data": {
            "text/plain": [
              "           Currency  Closing Price (USD)  24h Open (USD)  24h High (USD)  \\\n",
              "Date                                                                       \n",
              "2013-10-01      BTC            123.65499       124.30466       124.75166   \n",
              "2013-10-02      BTC            125.45500       123.65499       125.75850   \n",
              "2013-10-03      BTC            108.58483       125.45500       125.66566   \n",
              "2013-10-04      BTC            118.67466       108.58483       118.67500   \n",
              "2013-10-05      BTC            121.33866       118.67466       121.93633   \n",
              "\n",
              "            24h Low (USD)  \n",
              "Date                       \n",
              "2013-10-01      122.56349  \n",
              "2013-10-02      123.63383  \n",
              "2013-10-03       83.32833  \n",
              "2013-10-04      107.05816  \n",
              "2013-10-05      118.00566  "
            ],
            "text/html": [
              "\n",
              "  <div id=\"df-befb4559-dee8-4d64-a0d4-39ad43f0638d\">\n",
              "    <div class=\"colab-df-container\">\n",
              "      <div>\n",
              "<style scoped>\n",
              "    .dataframe tbody tr th:only-of-type {\n",
              "        vertical-align: middle;\n",
              "    }\n",
              "\n",
              "    .dataframe tbody tr th {\n",
              "        vertical-align: top;\n",
              "    }\n",
              "\n",
              "    .dataframe thead th {\n",
              "        text-align: right;\n",
              "    }\n",
              "</style>\n",
              "<table border=\"1\" class=\"dataframe\">\n",
              "  <thead>\n",
              "    <tr style=\"text-align: right;\">\n",
              "      <th></th>\n",
              "      <th>Currency</th>\n",
              "      <th>Closing Price (USD)</th>\n",
              "      <th>24h Open (USD)</th>\n",
              "      <th>24h High (USD)</th>\n",
              "      <th>24h Low (USD)</th>\n",
              "    </tr>\n",
              "    <tr>\n",
              "      <th>Date</th>\n",
              "      <th></th>\n",
              "      <th></th>\n",
              "      <th></th>\n",
              "      <th></th>\n",
              "      <th></th>\n",
              "    </tr>\n",
              "  </thead>\n",
              "  <tbody>\n",
              "    <tr>\n",
              "      <th>2013-10-01</th>\n",
              "      <td>BTC</td>\n",
              "      <td>123.65499</td>\n",
              "      <td>124.30466</td>\n",
              "      <td>124.75166</td>\n",
              "      <td>122.56349</td>\n",
              "    </tr>\n",
              "    <tr>\n",
              "      <th>2013-10-02</th>\n",
              "      <td>BTC</td>\n",
              "      <td>125.45500</td>\n",
              "      <td>123.65499</td>\n",
              "      <td>125.75850</td>\n",
              "      <td>123.63383</td>\n",
              "    </tr>\n",
              "    <tr>\n",
              "      <th>2013-10-03</th>\n",
              "      <td>BTC</td>\n",
              "      <td>108.58483</td>\n",
              "      <td>125.45500</td>\n",
              "      <td>125.66566</td>\n",
              "      <td>83.32833</td>\n",
              "    </tr>\n",
              "    <tr>\n",
              "      <th>2013-10-04</th>\n",
              "      <td>BTC</td>\n",
              "      <td>118.67466</td>\n",
              "      <td>108.58483</td>\n",
              "      <td>118.67500</td>\n",
              "      <td>107.05816</td>\n",
              "    </tr>\n",
              "    <tr>\n",
              "      <th>2013-10-05</th>\n",
              "      <td>BTC</td>\n",
              "      <td>121.33866</td>\n",
              "      <td>118.67466</td>\n",
              "      <td>121.93633</td>\n",
              "      <td>118.00566</td>\n",
              "    </tr>\n",
              "  </tbody>\n",
              "</table>\n",
              "</div>\n",
              "      <button class=\"colab-df-convert\" onclick=\"convertToInteractive('df-befb4559-dee8-4d64-a0d4-39ad43f0638d')\"\n",
              "              title=\"Convert this dataframe to an interactive table.\"\n",
              "              style=\"display:none;\">\n",
              "        \n",
              "  <svg xmlns=\"http://www.w3.org/2000/svg\" height=\"24px\"viewBox=\"0 0 24 24\"\n",
              "       width=\"24px\">\n",
              "    <path d=\"M0 0h24v24H0V0z\" fill=\"none\"/>\n",
              "    <path d=\"M18.56 5.44l.94 2.06.94-2.06 2.06-.94-2.06-.94-.94-2.06-.94 2.06-2.06.94zm-11 1L8.5 8.5l.94-2.06 2.06-.94-2.06-.94L8.5 2.5l-.94 2.06-2.06.94zm10 10l.94 2.06.94-2.06 2.06-.94-2.06-.94-.94-2.06-.94 2.06-2.06.94z\"/><path d=\"M17.41 7.96l-1.37-1.37c-.4-.4-.92-.59-1.43-.59-.52 0-1.04.2-1.43.59L10.3 9.45l-7.72 7.72c-.78.78-.78 2.05 0 2.83L4 21.41c.39.39.9.59 1.41.59.51 0 1.02-.2 1.41-.59l7.78-7.78 2.81-2.81c.8-.78.8-2.07 0-2.86zM5.41 20L4 18.59l7.72-7.72 1.47 1.35L5.41 20z\"/>\n",
              "  </svg>\n",
              "      </button>\n",
              "      \n",
              "  <style>\n",
              "    .colab-df-container {\n",
              "      display:flex;\n",
              "      flex-wrap:wrap;\n",
              "      gap: 12px;\n",
              "    }\n",
              "\n",
              "    .colab-df-convert {\n",
              "      background-color: #E8F0FE;\n",
              "      border: none;\n",
              "      border-radius: 50%;\n",
              "      cursor: pointer;\n",
              "      display: none;\n",
              "      fill: #1967D2;\n",
              "      height: 32px;\n",
              "      padding: 0 0 0 0;\n",
              "      width: 32px;\n",
              "    }\n",
              "\n",
              "    .colab-df-convert:hover {\n",
              "      background-color: #E2EBFA;\n",
              "      box-shadow: 0px 1px 2px rgba(60, 64, 67, 0.3), 0px 1px 3px 1px rgba(60, 64, 67, 0.15);\n",
              "      fill: #174EA6;\n",
              "    }\n",
              "\n",
              "    [theme=dark] .colab-df-convert {\n",
              "      background-color: #3B4455;\n",
              "      fill: #D2E3FC;\n",
              "    }\n",
              "\n",
              "    [theme=dark] .colab-df-convert:hover {\n",
              "      background-color: #434B5C;\n",
              "      box-shadow: 0px 1px 3px 1px rgba(0, 0, 0, 0.15);\n",
              "      filter: drop-shadow(0px 1px 2px rgba(0, 0, 0, 0.3));\n",
              "      fill: #FFFFFF;\n",
              "    }\n",
              "  </style>\n",
              "\n",
              "      <script>\n",
              "        const buttonEl =\n",
              "          document.querySelector('#df-befb4559-dee8-4d64-a0d4-39ad43f0638d button.colab-df-convert');\n",
              "        buttonEl.style.display =\n",
              "          google.colab.kernel.accessAllowed ? 'block' : 'none';\n",
              "\n",
              "        async function convertToInteractive(key) {\n",
              "          const element = document.querySelector('#df-befb4559-dee8-4d64-a0d4-39ad43f0638d');\n",
              "          const dataTable =\n",
              "            await google.colab.kernel.invokeFunction('convertToInteractive',\n",
              "                                                     [key], {});\n",
              "          if (!dataTable) return;\n",
              "\n",
              "          const docLinkHtml = 'Like what you see? Visit the ' +\n",
              "            '<a target=\"_blank\" href=https://colab.research.google.com/notebooks/data_table.ipynb>data table notebook</a>'\n",
              "            + ' to learn more about interactive tables.';\n",
              "          element.innerHTML = '';\n",
              "          dataTable['output_type'] = 'display_data';\n",
              "          await google.colab.output.renderOutput(dataTable, element);\n",
              "          const docLink = document.createElement('div');\n",
              "          docLink.innerHTML = docLinkHtml;\n",
              "          element.appendChild(docLink);\n",
              "        }\n",
              "      </script>\n",
              "    </div>\n",
              "  </div>\n",
              "  "
            ]
          },
          "metadata": {},
          "execution_count": 4
        }
      ]
    },
    {
      "cell_type": "code",
      "source": [
        "df.info()"
      ],
      "metadata": {
        "colab": {
          "base_uri": "https://localhost:8080/"
        },
        "id": "YO1C7lMBtNY6",
        "outputId": "85efd61e-e575-4269-9817-16eee6565328"
      },
      "execution_count": null,
      "outputs": [
        {
          "output_type": "stream",
          "name": "stdout",
          "text": [
            "<class 'pandas.core.frame.DataFrame'>\n",
            "DatetimeIndex: 2787 entries, 2013-10-01 to 2021-05-18\n",
            "Data columns (total 5 columns):\n",
            " #   Column               Non-Null Count  Dtype  \n",
            "---  ------               --------------  -----  \n",
            " 0   Currency             2787 non-null   object \n",
            " 1   Closing Price (USD)  2787 non-null   float64\n",
            " 2   24h Open (USD)       2787 non-null   float64\n",
            " 3   24h High (USD)       2787 non-null   float64\n",
            " 4   24h Low (USD)        2787 non-null   float64\n",
            "dtypes: float64(4), object(1)\n",
            "memory usage: 130.6+ KB\n"
          ]
        }
      ]
    },
    {
      "cell_type": "markdown",
      "source": [
        "**Note:** tensorflow likes float32, numpy prefers float64"
      ],
      "metadata": {
        "id": "Peysdyd8y6JZ"
      }
    },
    {
      "cell_type": "code",
      "source": [
        "df.tail() # recent data"
      ],
      "metadata": {
        "colab": {
          "base_uri": "https://localhost:8080/",
          "height": 238
        },
        "id": "zy3Oy0eCzNIT",
        "outputId": "5c83a998-62fc-4adf-f42c-abee56f1beeb"
      },
      "execution_count": null,
      "outputs": [
        {
          "output_type": "execute_result",
          "data": {
            "text/plain": [
              "           Currency  Closing Price (USD)  24h Open (USD)  24h High (USD)  \\\n",
              "Date                                                                       \n",
              "2021-05-14      BTC         49764.132082    49596.778891    51448.798576   \n",
              "2021-05-15      BTC         50032.693137    49717.354353    51578.312545   \n",
              "2021-05-16      BTC         47885.625255    49926.035067    50690.802950   \n",
              "2021-05-17      BTC         45604.615754    46805.537852    49670.414174   \n",
              "2021-05-18      BTC         43144.471291    46439.336570    46622.853437   \n",
              "\n",
              "            24h Low (USD)  \n",
              "Date                       \n",
              "2021-05-14   46294.720180  \n",
              "2021-05-15   48944.346536  \n",
              "2021-05-16   47005.102292  \n",
              "2021-05-17   43868.638969  \n",
              "2021-05-18   42102.346430  "
            ],
            "text/html": [
              "\n",
              "  <div id=\"df-de39a8a2-aa7b-4a3f-8de4-1268dde0a230\">\n",
              "    <div class=\"colab-df-container\">\n",
              "      <div>\n",
              "<style scoped>\n",
              "    .dataframe tbody tr th:only-of-type {\n",
              "        vertical-align: middle;\n",
              "    }\n",
              "\n",
              "    .dataframe tbody tr th {\n",
              "        vertical-align: top;\n",
              "    }\n",
              "\n",
              "    .dataframe thead th {\n",
              "        text-align: right;\n",
              "    }\n",
              "</style>\n",
              "<table border=\"1\" class=\"dataframe\">\n",
              "  <thead>\n",
              "    <tr style=\"text-align: right;\">\n",
              "      <th></th>\n",
              "      <th>Currency</th>\n",
              "      <th>Closing Price (USD)</th>\n",
              "      <th>24h Open (USD)</th>\n",
              "      <th>24h High (USD)</th>\n",
              "      <th>24h Low (USD)</th>\n",
              "    </tr>\n",
              "    <tr>\n",
              "      <th>Date</th>\n",
              "      <th></th>\n",
              "      <th></th>\n",
              "      <th></th>\n",
              "      <th></th>\n",
              "      <th></th>\n",
              "    </tr>\n",
              "  </thead>\n",
              "  <tbody>\n",
              "    <tr>\n",
              "      <th>2021-05-14</th>\n",
              "      <td>BTC</td>\n",
              "      <td>49764.132082</td>\n",
              "      <td>49596.778891</td>\n",
              "      <td>51448.798576</td>\n",
              "      <td>46294.720180</td>\n",
              "    </tr>\n",
              "    <tr>\n",
              "      <th>2021-05-15</th>\n",
              "      <td>BTC</td>\n",
              "      <td>50032.693137</td>\n",
              "      <td>49717.354353</td>\n",
              "      <td>51578.312545</td>\n",
              "      <td>48944.346536</td>\n",
              "    </tr>\n",
              "    <tr>\n",
              "      <th>2021-05-16</th>\n",
              "      <td>BTC</td>\n",
              "      <td>47885.625255</td>\n",
              "      <td>49926.035067</td>\n",
              "      <td>50690.802950</td>\n",
              "      <td>47005.102292</td>\n",
              "    </tr>\n",
              "    <tr>\n",
              "      <th>2021-05-17</th>\n",
              "      <td>BTC</td>\n",
              "      <td>45604.615754</td>\n",
              "      <td>46805.537852</td>\n",
              "      <td>49670.414174</td>\n",
              "      <td>43868.638969</td>\n",
              "    </tr>\n",
              "    <tr>\n",
              "      <th>2021-05-18</th>\n",
              "      <td>BTC</td>\n",
              "      <td>43144.471291</td>\n",
              "      <td>46439.336570</td>\n",
              "      <td>46622.853437</td>\n",
              "      <td>42102.346430</td>\n",
              "    </tr>\n",
              "  </tbody>\n",
              "</table>\n",
              "</div>\n",
              "      <button class=\"colab-df-convert\" onclick=\"convertToInteractive('df-de39a8a2-aa7b-4a3f-8de4-1268dde0a230')\"\n",
              "              title=\"Convert this dataframe to an interactive table.\"\n",
              "              style=\"display:none;\">\n",
              "        \n",
              "  <svg xmlns=\"http://www.w3.org/2000/svg\" height=\"24px\"viewBox=\"0 0 24 24\"\n",
              "       width=\"24px\">\n",
              "    <path d=\"M0 0h24v24H0V0z\" fill=\"none\"/>\n",
              "    <path d=\"M18.56 5.44l.94 2.06.94-2.06 2.06-.94-2.06-.94-.94-2.06-.94 2.06-2.06.94zm-11 1L8.5 8.5l.94-2.06 2.06-.94-2.06-.94L8.5 2.5l-.94 2.06-2.06.94zm10 10l.94 2.06.94-2.06 2.06-.94-2.06-.94-.94-2.06-.94 2.06-2.06.94z\"/><path d=\"M17.41 7.96l-1.37-1.37c-.4-.4-.92-.59-1.43-.59-.52 0-1.04.2-1.43.59L10.3 9.45l-7.72 7.72c-.78.78-.78 2.05 0 2.83L4 21.41c.39.39.9.59 1.41.59.51 0 1.02-.2 1.41-.59l7.78-7.78 2.81-2.81c.8-.78.8-2.07 0-2.86zM5.41 20L4 18.59l7.72-7.72 1.47 1.35L5.41 20z\"/>\n",
              "  </svg>\n",
              "      </button>\n",
              "      \n",
              "  <style>\n",
              "    .colab-df-container {\n",
              "      display:flex;\n",
              "      flex-wrap:wrap;\n",
              "      gap: 12px;\n",
              "    }\n",
              "\n",
              "    .colab-df-convert {\n",
              "      background-color: #E8F0FE;\n",
              "      border: none;\n",
              "      border-radius: 50%;\n",
              "      cursor: pointer;\n",
              "      display: none;\n",
              "      fill: #1967D2;\n",
              "      height: 32px;\n",
              "      padding: 0 0 0 0;\n",
              "      width: 32px;\n",
              "    }\n",
              "\n",
              "    .colab-df-convert:hover {\n",
              "      background-color: #E2EBFA;\n",
              "      box-shadow: 0px 1px 2px rgba(60, 64, 67, 0.3), 0px 1px 3px 1px rgba(60, 64, 67, 0.15);\n",
              "      fill: #174EA6;\n",
              "    }\n",
              "\n",
              "    [theme=dark] .colab-df-convert {\n",
              "      background-color: #3B4455;\n",
              "      fill: #D2E3FC;\n",
              "    }\n",
              "\n",
              "    [theme=dark] .colab-df-convert:hover {\n",
              "      background-color: #434B5C;\n",
              "      box-shadow: 0px 1px 3px 1px rgba(0, 0, 0, 0.15);\n",
              "      filter: drop-shadow(0px 1px 2px rgba(0, 0, 0, 0.3));\n",
              "      fill: #FFFFFF;\n",
              "    }\n",
              "  </style>\n",
              "\n",
              "      <script>\n",
              "        const buttonEl =\n",
              "          document.querySelector('#df-de39a8a2-aa7b-4a3f-8de4-1268dde0a230 button.colab-df-convert');\n",
              "        buttonEl.style.display =\n",
              "          google.colab.kernel.accessAllowed ? 'block' : 'none';\n",
              "\n",
              "        async function convertToInteractive(key) {\n",
              "          const element = document.querySelector('#df-de39a8a2-aa7b-4a3f-8de4-1268dde0a230');\n",
              "          const dataTable =\n",
              "            await google.colab.kernel.invokeFunction('convertToInteractive',\n",
              "                                                     [key], {});\n",
              "          if (!dataTable) return;\n",
              "\n",
              "          const docLinkHtml = 'Like what you see? Visit the ' +\n",
              "            '<a target=\"_blank\" href=https://colab.research.google.com/notebooks/data_table.ipynb>data table notebook</a>'\n",
              "            + ' to learn more about interactive tables.';\n",
              "          element.innerHTML = '';\n",
              "          dataTable['output_type'] = 'display_data';\n",
              "          await google.colab.output.renderOutput(dataTable, element);\n",
              "          const docLink = document.createElement('div');\n",
              "          docLink.innerHTML = docLinkHtml;\n",
              "          element.appendChild(docLink);\n",
              "        }\n",
              "      </script>\n",
              "    </div>\n",
              "  </div>\n",
              "  "
            ]
          },
          "metadata": {},
          "execution_count": 6
        }
      ]
    },
    {
      "cell_type": "code",
      "source": [
        "# How many samples do we have?\n",
        "len(df)"
      ],
      "metadata": {
        "colab": {
          "base_uri": "https://localhost:8080/"
        },
        "id": "7zAHtDf4zN7c",
        "outputId": "94f230f1-4f2b-4382-d8b3-8cfd9adaa07c"
      },
      "execution_count": null,
      "outputs": [
        {
          "output_type": "execute_result",
          "data": {
            "text/plain": [
              "2787"
            ]
          },
          "metadata": {},
          "execution_count": 7
        }
      ]
    },
    {
      "cell_type": "code",
      "source": [
        "8*365 # shy of 8 years of data"
      ],
      "metadata": {
        "colab": {
          "base_uri": "https://localhost:8080/"
        },
        "id": "dpRdcMIkzh2o",
        "outputId": "c0731df5-d830-400e-c5c4-3219fae33e21"
      },
      "execution_count": null,
      "outputs": [
        {
          "output_type": "execute_result",
          "data": {
            "text/plain": [
              "2920"
            ]
          },
          "metadata": {},
          "execution_count": 8
        }
      ]
    },
    {
      "cell_type": "markdown",
      "source": [
        "We've collected the historical price of Bitcoin for the past ~8 years, but there's 2787 samples.\n",
        "\n",
        "Typically deep learning models usually like lots and lots and lots of samples (where lots and lots can be thousands to tens of thousands to millions).\n",
        "\n",
        "A smaller number of samples is something you'll often run into with time series data problems.\n",
        "\n",
        "> **Note:** The **seasonality** of a time series dataset is referred as the number of samples per year. So for our Bitcoin data, it has a seasonality of daily or value of 365 because we collect one sample per day meaning we'll get 365 samples per year."
      ],
      "metadata": {
        "id": "F9nCwYhoznq5"
      }
    },
    {
      "cell_type": "code",
      "source": [
        "# Only want closing price for each day\n",
        "bitcoin_prices = pd.DataFrame(df[\"Closing Price (USD)\"]).rename(columns={\"Closing Price (USD)\": \"Price\"})\n",
        "bitcoin_prices.head()"
      ],
      "metadata": {
        "id": "Y-4lOI--1gT1",
        "colab": {
          "base_uri": "https://localhost:8080/",
          "height": 238
        },
        "outputId": "4c109dbc-0c9a-4403-ccbd-1d0c0eab105b"
      },
      "execution_count": null,
      "outputs": [
        {
          "output_type": "execute_result",
          "data": {
            "text/plain": [
              "                Price\n",
              "Date                 \n",
              "2013-10-01  123.65499\n",
              "2013-10-02  125.45500\n",
              "2013-10-03  108.58483\n",
              "2013-10-04  118.67466\n",
              "2013-10-05  121.33866"
            ],
            "text/html": [
              "\n",
              "  <div id=\"df-4e54a335-f818-4951-98fb-56cdc33ee6c1\">\n",
              "    <div class=\"colab-df-container\">\n",
              "      <div>\n",
              "<style scoped>\n",
              "    .dataframe tbody tr th:only-of-type {\n",
              "        vertical-align: middle;\n",
              "    }\n",
              "\n",
              "    .dataframe tbody tr th {\n",
              "        vertical-align: top;\n",
              "    }\n",
              "\n",
              "    .dataframe thead th {\n",
              "        text-align: right;\n",
              "    }\n",
              "</style>\n",
              "<table border=\"1\" class=\"dataframe\">\n",
              "  <thead>\n",
              "    <tr style=\"text-align: right;\">\n",
              "      <th></th>\n",
              "      <th>Price</th>\n",
              "    </tr>\n",
              "    <tr>\n",
              "      <th>Date</th>\n",
              "      <th></th>\n",
              "    </tr>\n",
              "  </thead>\n",
              "  <tbody>\n",
              "    <tr>\n",
              "      <th>2013-10-01</th>\n",
              "      <td>123.65499</td>\n",
              "    </tr>\n",
              "    <tr>\n",
              "      <th>2013-10-02</th>\n",
              "      <td>125.45500</td>\n",
              "    </tr>\n",
              "    <tr>\n",
              "      <th>2013-10-03</th>\n",
              "      <td>108.58483</td>\n",
              "    </tr>\n",
              "    <tr>\n",
              "      <th>2013-10-04</th>\n",
              "      <td>118.67466</td>\n",
              "    </tr>\n",
              "    <tr>\n",
              "      <th>2013-10-05</th>\n",
              "      <td>121.33866</td>\n",
              "    </tr>\n",
              "  </tbody>\n",
              "</table>\n",
              "</div>\n",
              "      <button class=\"colab-df-convert\" onclick=\"convertToInteractive('df-4e54a335-f818-4951-98fb-56cdc33ee6c1')\"\n",
              "              title=\"Convert this dataframe to an interactive table.\"\n",
              "              style=\"display:none;\">\n",
              "        \n",
              "  <svg xmlns=\"http://www.w3.org/2000/svg\" height=\"24px\"viewBox=\"0 0 24 24\"\n",
              "       width=\"24px\">\n",
              "    <path d=\"M0 0h24v24H0V0z\" fill=\"none\"/>\n",
              "    <path d=\"M18.56 5.44l.94 2.06.94-2.06 2.06-.94-2.06-.94-.94-2.06-.94 2.06-2.06.94zm-11 1L8.5 8.5l.94-2.06 2.06-.94-2.06-.94L8.5 2.5l-.94 2.06-2.06.94zm10 10l.94 2.06.94-2.06 2.06-.94-2.06-.94-.94-2.06-.94 2.06-2.06.94z\"/><path d=\"M17.41 7.96l-1.37-1.37c-.4-.4-.92-.59-1.43-.59-.52 0-1.04.2-1.43.59L10.3 9.45l-7.72 7.72c-.78.78-.78 2.05 0 2.83L4 21.41c.39.39.9.59 1.41.59.51 0 1.02-.2 1.41-.59l7.78-7.78 2.81-2.81c.8-.78.8-2.07 0-2.86zM5.41 20L4 18.59l7.72-7.72 1.47 1.35L5.41 20z\"/>\n",
              "  </svg>\n",
              "      </button>\n",
              "      \n",
              "  <style>\n",
              "    .colab-df-container {\n",
              "      display:flex;\n",
              "      flex-wrap:wrap;\n",
              "      gap: 12px;\n",
              "    }\n",
              "\n",
              "    .colab-df-convert {\n",
              "      background-color: #E8F0FE;\n",
              "      border: none;\n",
              "      border-radius: 50%;\n",
              "      cursor: pointer;\n",
              "      display: none;\n",
              "      fill: #1967D2;\n",
              "      height: 32px;\n",
              "      padding: 0 0 0 0;\n",
              "      width: 32px;\n",
              "    }\n",
              "\n",
              "    .colab-df-convert:hover {\n",
              "      background-color: #E2EBFA;\n",
              "      box-shadow: 0px 1px 2px rgba(60, 64, 67, 0.3), 0px 1px 3px 1px rgba(60, 64, 67, 0.15);\n",
              "      fill: #174EA6;\n",
              "    }\n",
              "\n",
              "    [theme=dark] .colab-df-convert {\n",
              "      background-color: #3B4455;\n",
              "      fill: #D2E3FC;\n",
              "    }\n",
              "\n",
              "    [theme=dark] .colab-df-convert:hover {\n",
              "      background-color: #434B5C;\n",
              "      box-shadow: 0px 1px 3px 1px rgba(0, 0, 0, 0.15);\n",
              "      filter: drop-shadow(0px 1px 2px rgba(0, 0, 0, 0.3));\n",
              "      fill: #FFFFFF;\n",
              "    }\n",
              "  </style>\n",
              "\n",
              "      <script>\n",
              "        const buttonEl =\n",
              "          document.querySelector('#df-4e54a335-f818-4951-98fb-56cdc33ee6c1 button.colab-df-convert');\n",
              "        buttonEl.style.display =\n",
              "          google.colab.kernel.accessAllowed ? 'block' : 'none';\n",
              "\n",
              "        async function convertToInteractive(key) {\n",
              "          const element = document.querySelector('#df-4e54a335-f818-4951-98fb-56cdc33ee6c1');\n",
              "          const dataTable =\n",
              "            await google.colab.kernel.invokeFunction('convertToInteractive',\n",
              "                                                     [key], {});\n",
              "          if (!dataTable) return;\n",
              "\n",
              "          const docLinkHtml = 'Like what you see? Visit the ' +\n",
              "            '<a target=\"_blank\" href=https://colab.research.google.com/notebooks/data_table.ipynb>data table notebook</a>'\n",
              "            + ' to learn more about interactive tables.';\n",
              "          element.innerHTML = '';\n",
              "          dataTable['output_type'] = 'display_data';\n",
              "          await google.colab.output.renderOutput(dataTable, element);\n",
              "          const docLink = document.createElement('div');\n",
              "          docLink.innerHTML = docLinkHtml;\n",
              "          element.appendChild(docLink);\n",
              "        }\n",
              "      </script>\n",
              "    </div>\n",
              "  </div>\n",
              "  "
            ]
          },
          "metadata": {},
          "execution_count": 9
        }
      ]
    },
    {
      "cell_type": "code",
      "source": [
        "import matplotlib.pyplot as plt\n",
        "bitcoin_prices.plot(figsize=(10,7))\n",
        "plt.ylabel(\"BTC Price\")\n",
        "plt.title(\"Price of Bitcoin from 1 Oct 2013 to 18 May 2021\", fontsize=16)\n",
        "plt.legend(fontsize=14)"
      ],
      "metadata": {
        "colab": {
          "base_uri": "https://localhost:8080/",
          "height": 477
        },
        "id": "tj2Y-y74OCB1",
        "outputId": "c3981d46-a54f-4267-b879-5c54cf05fc40"
      },
      "execution_count": null,
      "outputs": [
        {
          "output_type": "execute_result",
          "data": {
            "text/plain": [
              "<matplotlib.legend.Legend at 0x7fcebfd3f910>"
            ]
          },
          "metadata": {},
          "execution_count": 10
        },
        {
          "output_type": "display_data",
          "data": {
            "text/plain": [
              "<Figure size 720x504 with 1 Axes>"
            ],
            "image/png": "[encoded data removed]"
          },
          "metadata": {
            "needs_background": "light"
          }
        }
      ]
    },
    {
      "cell_type": "markdown",
      "source": [
        "## Importing and plot time series data with Python's CSV module (Way 2)"
      ],
      "metadata": {
        "id": "M14YDPdKRzz9"
      }
    },
    {
      "cell_type": "code",
      "source": [
        "import csv\n",
        "from datetime import datetime\n",
        "timesteps = []\n",
        "btc_price = []\n",
        "with open('/content/BTC_USD_2013-10-01_2021-05-18-CoinDesk.csv.1', \"r\") as f:\n",
        "    csv_reader = csv.reader(f, delimiter = \",\")\n",
        "    next(csv_reader) # skips the header when we are reading the csv in, gets rid of the column titles and straight into the data\n",
        "    for line in csv_reader:\n",
        "      #timesteps.append(line[1])\n",
        "      timesteps.append(datetime.strptime(line[1], \"%Y-%m-%d\")) # get the dates as dates (not as strings)\n",
        "      btc_price.append(float(line[2])) # get the closing price as float\n",
        "\n",
        "# View first 10 of each\n",
        "timesteps[:10], btc_price[:10]"
      ],
      "metadata": {
        "colab": {
          "base_uri": "https://localhost:8080/"
        },
        "id": "ne9Wq0yOO5N0",
        "outputId": "3fe5b1e5-0de3-44c5-f298-b3eebe91fea9"
      },
      "execution_count": null,
      "outputs": [
        {
          "output_type": "execute_result",
          "data": {
            "text/plain": [
              "([datetime.datetime(2013, 10, 1, 0, 0),\n",
              "  datetime.datetime(2013, 10, 2, 0, 0),\n",
              "  datetime.datetime(2013, 10, 3, 0, 0),\n",
              "  datetime.datetime(2013, 10, 4, 0, 0),\n",
              "  datetime.datetime(2013, 10, 5, 0, 0),\n",
              "  datetime.datetime(2013, 10, 6, 0, 0),\n",
              "  datetime.datetime(2013, 10, 7, 0, 0),\n",
              "  datetime.datetime(2013, 10, 8, 0, 0),\n",
              "  datetime.datetime(2013, 10, 9, 0, 0),\n",
              "  datetime.datetime(2013, 10, 10, 0, 0)],\n",
              " [123.65499,\n",
              "  125.455,\n",
              "  108.58483,\n",
              "  118.67466,\n",
              "  121.33866,\n",
              "  120.65533,\n",
              "  121.795,\n",
              "  123.033,\n",
              "  124.049,\n",
              "  125.96116])"
            ]
          },
          "metadata": {},
          "execution_count": 11
        }
      ]
    },
    {
      "cell_type": "code",
      "source": [
        "# Plot from CSV\n",
        "import matplotlib.pyplot as plt\n",
        "import numpy as np\n",
        "plt.figure(figsize = (10,7))\n",
        "plt.plot(timesteps, btc_price)\n",
        "plt.ylabel(\"BTC Price\")\n",
        "plt.title(\"Price of Bitcoin from 1 Oct 2013 to 18 May 2021\", fontsize=16)\n",
        "plt.xlabel(\"Date\")"
      ],
      "metadata": {
        "colab": {
          "base_uri": "https://localhost:8080/",
          "height": 477
        },
        "id": "KkKxDTjGQrO3",
        "outputId": "62d8bf8e-4526-4ae7-ce82-1d059e81f55c"
      },
      "execution_count": null,
      "outputs": [
        {
          "output_type": "execute_result",
          "data": {
            "text/plain": [
              "Text(0.5, 0, 'Date')"
            ]
          },
          "metadata": {},
          "execution_count": 12
        },
        {
          "output_type": "display_data",
          "data": {
            "text/plain": [
              "<Figure size 720x504 with 1 Axes>"
            ],
            "image/png": "[encoded data removed]"
          },
          "metadata": {
            "needs_background": "light"
          }
        }
      ]
    },
    {
      "cell_type": "markdown",
      "source": [
        "## Format data part : Create train and test sets of our time series data (the wrong way)."
      ],
      "metadata": {
        "id": "7QC69TjNX-3z"
      }
    },
    {
      "cell_type": "code",
      "source": [
        "bitcoin_prices[:5]"
      ],
      "metadata": {
        "colab": {
          "base_uri": "https://localhost:8080/",
          "height": 238
        },
        "id": "EQInLD8xiE4g",
        "outputId": "ed33fee6-6ed2-42d6-dc06-b155b8d95102"
      },
      "execution_count": null,
      "outputs": [
        {
          "output_type": "execute_result",
          "data": {
            "text/plain": [
              "                Price\n",
              "Date                 \n",
              "2013-10-01  123.65499\n",
              "2013-10-02  125.45500\n",
              "2013-10-03  108.58483\n",
              "2013-10-04  118.67466\n",
              "2013-10-05  121.33866"
            ],
            "text/html": [
              "\n",
              "  <div id=\"df-26f364c8-331e-4b80-8891-2a12ebf641ff\">\n",
              "    <div class=\"colab-df-container\">\n",
              "      <div>\n",
              "<style scoped>\n",
              "    .dataframe tbody tr th:only-of-type {\n",
              "        vertical-align: middle;\n",
              "    }\n",
              "\n",
              "    .dataframe tbody tr th {\n",
              "        vertical-align: top;\n",
              "    }\n",
              "\n",
              "    .dataframe thead th {\n",
              "        text-align: right;\n",
              "    }\n",
              "</style>\n",
              "<table border=\"1\" class=\"dataframe\">\n",
              "  <thead>\n",
              "    <tr style=\"text-align: right;\">\n",
              "      <th></th>\n",
              "      <th>Price</th>\n",
              "    </tr>\n",
              "    <tr>\n",
              "      <th>Date</th>\n",
              "      <th></th>\n",
              "    </tr>\n",
              "  </thead>\n",
              "  <tbody>\n",
              "    <tr>\n",
              "      <th>2013-10-01</th>\n",
              "      <td>123.65499</td>\n",
              "    </tr>\n",
              "    <tr>\n",
              "      <th>2013-10-02</th>\n",
              "      <td>125.45500</td>\n",
              "    </tr>\n",
              "    <tr>\n",
              "      <th>2013-10-03</th>\n",
              "      <td>108.58483</td>\n",
              "    </tr>\n",
              "    <tr>\n",
              "      <th>2013-10-04</th>\n",
              "      <td>118.67466</td>\n",
              "    </tr>\n",
              "    <tr>\n",
              "      <th>2013-10-05</th>\n",
              "      <td>121.33866</td>\n",
              "    </tr>\n",
              "  </tbody>\n",
              "</table>\n",
              "</div>\n",
              "      <button class=\"colab-df-convert\" onclick=\"convertToInteractive('df-26f364c8-331e-4b80-8891-2a12ebf641ff')\"\n",
              "              title=\"Convert this dataframe to an interactive table.\"\n",
              "              style=\"display:none;\">\n",
              "        \n",
              "  <svg xmlns=\"http://www.w3.org/2000/svg\" height=\"24px\"viewBox=\"0 0 24 24\"\n",
              "       width=\"24px\">\n",
              "    <path d=\"M0 0h24v24H0V0z\" fill=\"none\"/>\n",
              "    <path d=\"M18.56 5.44l.94 2.06.94-2.06 2.06-.94-2.06-.94-.94-2.06-.94 2.06-2.06.94zm-11 1L8.5 8.5l.94-2.06 2.06-.94-2.06-.94L8.5 2.5l-.94 2.06-2.06.94zm10 10l.94 2.06.94-2.06 2.06-.94-2.06-.94-.94-2.06-.94 2.06-2.06.94z\"/><path d=\"M17.41 7.96l-1.37-1.37c-.4-.4-.92-.59-1.43-.59-.52 0-1.04.2-1.43.59L10.3 9.45l-7.72 7.72c-.78.78-.78 2.05 0 2.83L4 21.41c.39.39.9.59 1.41.59.51 0 1.02-.2 1.41-.59l7.78-7.78 2.81-2.81c.8-.78.8-2.07 0-2.86zM5.41 20L4 18.59l7.72-7.72 1.47 1.35L5.41 20z\"/>\n",
              "  </svg>\n",
              "      </button>\n",
              "      \n",
              "  <style>\n",
              "    .colab-df-container {\n",
              "      display:flex;\n",
              "      flex-wrap:wrap;\n",
              "      gap: 12px;\n",
              "    }\n",
              "\n",
              "    .colab-df-convert {\n",
              "      background-color: #E8F0FE;\n",
              "      border: none;\n",
              "      border-radius: 50%;\n",
              "      cursor: pointer;\n",
              "      display: none;\n",
              "      fill: #1967D2;\n",
              "      height: 32px;\n",
              "      padding: 0 0 0 0;\n",
              "      width: 32px;\n",
              "    }\n",
              "\n",
              "    .colab-df-convert:hover {\n",
              "      background-color: #E2EBFA;\n",
              "      box-shadow: 0px 1px 2px rgba(60, 64, 67, 0.3), 0px 1px 3px 1px rgba(60, 64, 67, 0.15);\n",
              "      fill: #174EA6;\n",
              "    }\n",
              "\n",
              "    [theme=dark] .colab-df-convert {\n",
              "      background-color: #3B4455;\n",
              "      fill: #D2E3FC;\n",
              "    }\n",
              "\n",
              "    [theme=dark] .colab-df-convert:hover {\n",
              "      background-color: #434B5C;\n",
              "      box-shadow: 0px 1px 3px 1px rgba(0, 0, 0, 0.15);\n",
              "      filter: drop-shadow(0px 1px 2px rgba(0, 0, 0, 0.3));\n",
              "      fill: #FFFFFF;\n",
              "    }\n",
              "  </style>\n",
              "\n",
              "      <script>\n",
              "        const buttonEl =\n",
              "          document.querySelector('#df-26f364c8-331e-4b80-8891-2a12ebf641ff button.colab-df-convert');\n",
              "        buttonEl.style.display =\n",
              "          google.colab.kernel.accessAllowed ? 'block' : 'none';\n",
              "\n",
              "        async function convertToInteractive(key) {\n",
              "          const element = document.querySelector('#df-26f364c8-331e-4b80-8891-2a12ebf641ff');\n",
              "          const dataTable =\n",
              "            await google.colab.kernel.invokeFunction('convertToInteractive',\n",
              "                                                     [key], {});\n",
              "          if (!dataTable) return;\n",
              "\n",
              "          const docLinkHtml = 'Like what you see? Visit the ' +\n",
              "            '<a target=\"_blank\" href=https://colab.research.google.com/notebooks/data_table.ipynb>data table notebook</a>'\n",
              "            + ' to learn more about interactive tables.';\n",
              "          element.innerHTML = '';\n",
              "          dataTable['output_type'] = 'display_data';\n",
              "          await google.colab.output.renderOutput(dataTable, element);\n",
              "          const docLink = document.createElement('div');\n",
              "          docLink.innerHTML = docLinkHtml;\n",
              "          element.appendChild(docLink);\n",
              "        }\n",
              "      </script>\n",
              "    </div>\n",
              "  </div>\n",
              "  "
            ]
          },
          "metadata": {},
          "execution_count": 13
        }
      ]
    },
    {
      "cell_type": "code",
      "source": [
        "# Get bitcoin date array\n",
        "timesteps = bitcoin_prices.index.to_numpy() # turning date to numpy\n",
        "prices = bitcoin_prices[\"Price\"].to_numpy()\n",
        "\n",
        "timesteps[:10], prices[:10]"
      ],
      "metadata": {
        "colab": {
          "base_uri": "https://localhost:8080/"
        },
        "id": "xRPYH9MkhTeh",
        "outputId": "7f459407-4bf8-429d-8081-b516667f7c8e"
      },
      "execution_count": null,
      "outputs": [
        {
          "output_type": "execute_result",
          "data": {
            "text/plain": [
              "(array(['2013-10-01T00:00:00.000000000', '2013-10-02T00:00:00.000000000',\n",
              "        '2013-10-03T00:00:00.000000000', '2013-10-04T00:00:00.000000000',\n",
              "        '2013-10-05T00:00:00.000000000', '2013-10-06T00:00:00.000000000',\n",
              "        '2013-10-07T00:00:00.000000000', '2013-10-08T00:00:00.000000000',\n",
              "        '2013-10-09T00:00:00.000000000', '2013-10-10T00:00:00.000000000'],\n",
              "       dtype='datetime64[ns]'),\n",
              " array([123.65499, 125.455  , 108.58483, 118.67466, 121.33866, 120.65533,\n",
              "        121.795  , 123.033  , 124.049  , 125.96116]))"
            ]
          },
          "metadata": {},
          "execution_count": 14
        }
      ]
    },
    {
      "cell_type": "code",
      "source": [
        "# Wrong way to make train/test sets for time series data\n",
        "from sklearn.model_selection import train_test_split\n",
        "X_train, X_test, y_train, y_test = train_test_split(timesteps, # dates\n",
        "                                                    prices, # BTC prices\n",
        "                                                    test_size = 0.2, # 20 percent split\n",
        "                                                    random_state = 42)\n",
        "X_train.shape, X_test.shape, y_train.shape, y_test.shape"
      ],
      "metadata": {
        "colab": {
          "base_uri": "https://localhost:8080/"
        },
        "id": "FK6vX3ftiZVf",
        "outputId": "0f4f8797-5d76-46c1-d4ca-2e3f368abcd7"
      },
      "execution_count": null,
      "outputs": [
        {
          "output_type": "execute_result",
          "data": {
            "text/plain": [
              "((2229,), (558,), (2229,), (558,))"
            ]
          },
          "metadata": {},
          "execution_count": 15
        }
      ]
    },
    {
      "cell_type": "code",
      "source": [
        "# Let's plot wrong train and test splits\n",
        "plt.figure(figsize=(10,7))\n",
        "plt.scatter(X_train, y_train, s = 5, label = \"Train data\")\n",
        "plt.scatter(X_test, y_test, s = 5, label = \"Test data\")\n",
        "plt.xlabel(\"Date\")\n",
        "plt.ylabel(\"BTC Price\")\n",
        "plt.legend(fontsize = 14)\n",
        "plt.show();"
      ],
      "metadata": {
        "colab": {
          "base_uri": "https://localhost:8080/",
          "height": 442
        },
        "id": "-Llo0me4jjrw",
        "outputId": "a44a6f1f-a6e8-4df3-cb1c-7200055ffd94"
      },
      "execution_count": null,
      "outputs": [
        {
          "output_type": "display_data",
          "data": {
            "text/plain": [
              "<Figure size 720x504 with 1 Axes>"
            ],
            "image/png": "[encoded data removed]"
          },
          "metadata": {
            "needs_background": "light"
          }
        }
      ]
    },
    {
      "cell_type": "markdown",
      "source": [
        "> This does not work, the random split has caused data leakage issues"
      ],
      "metadata": {
        "id": "wJjB7_UE1_8L"
      }
    },
    {
      "cell_type": "markdown",
      "source": [
        "### Create train & test sets for time series (the right way)"
      ],
      "metadata": {
        "id": "x0pTCbPRq17g"
      }
    },
    {
      "cell_type": "code",
      "source": [
        "# Create train and test splits on our data\n",
        "split_size = int(0.8 * len(prices)) # 80% train, 20% test - you can change these values as you wish\n",
        "\n",
        "# Create train data splits (everything before the split)\n",
        "X_train, y_train = timesteps[:split_size], prices[:split_size]\n",
        "\n",
        "# Create test data splits (everything beyond the split)\n",
        "X_test, y_test = timesteps[split_size:], prices[split_size:]\n",
        "\n",
        "len(X_train), len(X_test), len(y_train), len(y_test)"
      ],
      "metadata": {
        "colab": {
          "base_uri": "https://localhost:8080/"
        },
        "id": "WhiKtP0cz23J",
        "outputId": "1038fc7d-c47d-4ab5-92f9-23920e35185b"
      },
      "execution_count": null,
      "outputs": [
        {
          "output_type": "execute_result",
          "data": {
            "text/plain": [
              "(2229, 558, 2229, 558)"
            ]
          },
          "metadata": {},
          "execution_count": 17
        }
      ]
    },
    {
      "cell_type": "code",
      "source": [
        "# Plot correctly made splits\n",
        "plt.figure(figsize=(10,7))\n",
        "plt.scatter(X_train, y_train, s = 5, label = \"Train data\")\n",
        "plt.scatter(X_test, y_test, s = 5, label = \"Test data\")\n",
        "plt.xlabel(\"Date\")\n",
        "plt.ylabel(\"BTC Price\")\n",
        "plt.legend(fontsize = 14)\n",
        "plt.show();"
      ],
      "metadata": {
        "colab": {
          "base_uri": "https://localhost:8080/",
          "height": 442
        },
        "id": "_mAgVY_f01UJ",
        "outputId": "db51d02d-aa8a-441c-e628-cd07380bd251"
      },
      "execution_count": null,
      "outputs": [
        {
          "output_type": "display_data",
          "data": {
            "text/plain": [
              "<Figure size 720x504 with 1 Axes>"
            ],
            "image/png": "[encoded data removed]"
          },
          "metadata": {
            "needs_background": "light"
          }
        }
      ]
    },
    {
      "cell_type": "markdown",
      "source": [
        "## Create a plotting function\n",
        "Typing plotting code is tedious, let's functionalize it."
      ],
      "metadata": {
        "id": "_8OPNvbd1HsK"
      }
    },
    {
      "cell_type": "code",
      "source": [
        "# Create a function to plot time series data\n",
        "def plot_time_series(timesteps, values, format = \".\", start = 0, end = None, label = None):\n",
        "  \"\"\"\n",
        "  Plots timesteps (a series of points in time) against values (a seres of values across timesteps).\n",
        "  \n",
        "  Parameters\n",
        "  ----------\n",
        "  timesteps : array of timestep values\n",
        "  values : array of values across time\n",
        "  format : style of plot, default \".\"\n",
        "  start : where to start the plot (setting a value will index from start of timesteps and values)\n",
        "  end : where to end the plot (similar to start but for the end)\n",
        "  label : label to show on plot about values\n",
        "  \"\"\"\n",
        "  # Plot the series\n",
        "  plt.plot(timesteps[start:end], values[start:end], format, label=label)\n",
        "  plt.xlabel(\"Time\")\n",
        "  plt.ylabel(\"BTC Price\")\n",
        "  if label:\n",
        "    plt.legend(fontsize = 14) # Make label bigger\n",
        "  plt.grid(True)"
      ],
      "metadata": {
        "id": "DLNjiV6N2bzN"
      },
      "execution_count": null,
      "outputs": []
    },
    {
      "cell_type": "code",
      "source": [
        "# Test out plotting function\n",
        "plt.figure(figsize=(10,7))\n",
        "plot_time_series(timesteps = X_train, values = y_train, label = \"Train data\")\n",
        "plot_time_series(timesteps = X_test, values = y_test, label = \"Test data\")\n",
        "\n",
        "# We are adding two plots to the one figure"
      ],
      "metadata": {
        "colab": {
          "base_uri": "https://localhost:8080/",
          "height": 442
        },
        "id": "Js0DfauJ3wxd",
        "outputId": "7887a34a-e693-4320-ccb4-4e3847ba06a0"
      },
      "execution_count": null,
      "outputs": [
        {
          "output_type": "display_data",
          "data": {
            "text/plain": [
              "<Figure size 720x504 with 1 Axes>"
            ],
            "image/png": "[encoded data removed]"
          },
          "metadata": {
            "needs_background": "light"
          }
        }
      ]
    },
    {
      "cell_type": "markdown",
      "source": [
        "## Modelling experiments\n",
        "\n",
        "We've got some Bitcoin historical data, to model it, let's run a series of modelling experiments and see which model performs best\n",
        "\n",
        "* **Horizon** = number of timesteps into the future we're going to predict\n",
        "* **Window size** = number of timesteps we're going to use to predict **horizon**\n",
        "\n",
        "\n",
        "Modellling experiments we're running: \n",
        "* 0 \tNaïve model (baseline)\n",
        "* 1 \tDense model, horizon = 1, windows = 7\n",
        "* 2 \tSame as 1, horizon = 1, windows = 30\n",
        "* 3 \tSame as 1, horizon = 7, windows = 30\n",
        "* 4 \tConv1D\n",
        "* 5 \tLSTM\n",
        "* 6 \tSame as 1 (but with multivariate data) \n",
        "* 7 \tN-BEATs Algorithm\n",
        "* 8 \tEnsemble (multiple models optimized on different loss functions)\n",
        "* 9 \tFuture prediction model (model to predict future values)\n",
        "* 10 \tSame as 1 (but with turkey 🦃 data introduced)"
      ],
      "metadata": {
        "id": "cEuK2OUI59ET"
      }
    },
    {
      "cell_type": "markdown",
      "source": [
        "## Model 0: Naive forecast (baseline)\n",
        "\n",
        "The formula looks like this:\n",
        "\n",
        "$$\\hat{y}_{t} = y_{t-1}$$\n",
        "\n",
        "In English:\n",
        "\n",
        "> The prediction at timestep t (y-hat) is equal to the value at timestep t-1 (previous timestep) - this is for a horizon of 1."
      ],
      "metadata": {
        "id": "o52T1IYc_fwY"
      }
    },
    {
      "cell_type": "code",
      "source": [
        "y_test[:10]"
      ],
      "metadata": {
        "colab": {
          "base_uri": "https://localhost:8080/"
        },
        "id": "8VYnG1fFDVhg",
        "outputId": "8a197613-6e49-4c02-bb9d-522e6355d7f6"
      },
      "execution_count": null,
      "outputs": [
        {
          "output_type": "execute_result",
          "data": {
            "text/plain": [
              "array([9226.48582088, 8794.35864452, 8798.04205463, 9081.18687849,\n",
              "       8711.53433917, 8760.89271814, 8749.52059102, 8656.97092235,\n",
              "       8500.64355816, 8469.2608989 ])"
            ]
          },
          "metadata": {},
          "execution_count": 21
        }
      ]
    },
    {
      "cell_type": "code",
      "source": [
        "# Create a naive forecast\n",
        "naive_forecast = y_test[:-1]\n",
        "\n",
        "naive_forecast[:10], naive_forecast[-10:]\n"
      ],
      "metadata": {
        "colab": {
          "base_uri": "https://localhost:8080/"
        },
        "id": "136Zykfb24kv",
        "outputId": "2f3270f9-8811-438b-b7b7-e4a1f25ccea6"
      },
      "execution_count": null,
      "outputs": [
        {
          "output_type": "execute_result",
          "data": {
            "text/plain": [
              "(array([9226.48582088, 8794.35864452, 8798.04205463, 9081.18687849,\n",
              "        8711.53433917, 8760.89271814, 8749.52059102, 8656.97092235,\n",
              "        8500.64355816, 8469.2608989 ]),\n",
              " array([57107.12067189, 58788.20967893, 58102.19142623, 55715.54665129,\n",
              "        56573.5554719 , 52147.82118698, 49764.1320816 , 50032.69313676,\n",
              "        47885.62525472, 45604.61575361]))"
            ]
          },
          "metadata": {},
          "execution_count": 22
        }
      ]
    },
    {
      "cell_type": "code",
      "source": [
        "y_test[-10:]"
      ],
      "metadata": {
        "colab": {
          "base_uri": "https://localhost:8080/"
        },
        "id": "QXQUwWvwDpWj",
        "outputId": "ecdac85e-258f-45f9-89f7-46018e999f2c"
      },
      "execution_count": null,
      "outputs": [
        {
          "output_type": "execute_result",
          "data": {
            "text/plain": [
              "array([58788.20967893, 58102.19142623, 55715.54665129, 56573.5554719 ,\n",
              "       52147.82118698, 49764.1320816 , 50032.69313676, 47885.62525472,\n",
              "       45604.61575361, 43144.47129086])"
            ]
          },
          "metadata": {},
          "execution_count": 23
        }
      ]
    },
    {
      "cell_type": "code",
      "source": [],
      "metadata": {
        "id": "5HuYgxiaKz8O"
      },
      "execution_count": null,
      "outputs": []
    }
  ]
}